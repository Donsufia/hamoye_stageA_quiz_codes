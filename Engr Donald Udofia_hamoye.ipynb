{
 "cells": [
  {
   "cell_type": "markdown",
   "metadata": {},
   "source": [
    "### GRADED ASSIGNMENT CODES"
   ]
  },
  {
   "cell_type": "markdown",
   "metadata": {},
   "source": [
    "#### QUESTION 1"
   ]
  },
  {
   "cell_type": "code",
   "execution_count": null,
   "metadata": {},
   "outputs": [],
   "source": [
    "import numpy as np\n",
    "import pandas as pd\n",
    "fuel_data = pd.read_csv(\"fuel_ferc1.csv\")\n",
    "A= [1,2,3,4,5,6]  \n",
    "B = [13,21,34]\n",
    "A.extend(B)\n",
    "#A.append(B)\n",
    "A\n",
    "\n"
   ]
  },
  {
   "cell_type": "markdown",
   "metadata": {},
   "source": [
    "#### QUESTION 2"
   ]
  },
  {
   "cell_type": "code",
   "execution_count": null,
   "metadata": {},
   "outputs": [],
   "source": [
    "I = np.identity(3)\n",
    "I"
   ]
  },
  {
   "cell_type": "markdown",
   "metadata": {},
   "source": [
    "#### QUESTION 3"
   ]
  },
  {
   "cell_type": "code",
   "execution_count": null,
   "metadata": {},
   "outputs": [],
   "source": [
    "fuel_data.groupby(\"fuel_type_code_pudl\")[\"fuel_cost_per_unit_burned\"].mean().sort_values()"
   ]
  },
  {
   "cell_type": "markdown",
   "metadata": {},
   "source": [
    "#### QUESTION 4"
   ]
  },
  {
   "cell_type": "code",
   "execution_count": null,
   "metadata": {},
   "outputs": [],
   "source": [
    "fuel_data[\"fuel_mmbtu_per_unit\"].describe()"
   ]
  },
  {
   "cell_type": "markdown",
   "metadata": {},
   "source": [
    "#### QUESTION 5"
   ]
  },
  {
   "cell_type": "code",
   "execution_count": null,
   "metadata": {},
   "outputs": [],
   "source": [
    "k=fuel_data[\"fuel_qty_burned\"].kurtosis()\n",
    "s=fuel_data[\"fuel_qty_burned\"].skew() \n",
    "print(\"The kurtosis is:\", k)\n",
    "print(\"The skewness is:\", s)"
   ]
  },
  {
   "cell_type": "markdown",
   "metadata": {},
   "source": [
    "#### QUESTION 6"
   ]
  },
  {
   "cell_type": "code",
   "execution_count": null,
   "metadata": {},
   "outputs": [],
   "source": [
    "Feature_missing_value=fuel_data.isnull().sum()\n",
    "Feature_missing_value\n",
    "Feature_missing_value[5]\n",
    "Total_rows=fuel_data.shape[0]   \n",
    "Total_rows\n",
    "(Feature_missing_value[5]/Total_rows)*100"
   ]
  },
  {
   "cell_type": "markdown",
   "metadata": {},
   "source": [
    "#### QUESTION 8"
   ]
  },
  {
   "cell_type": "code",
   "execution_count": null,
   "metadata": {},
   "outputs": [],
   "source": [
    "fuel_data.corr()[\"fuel_cost_per_unit_burned\"].sort_values().iloc[1:3]\n"
   ]
  },
  {
   "cell_type": "markdown",
   "metadata": {},
   "source": [
    "#### QUESTION 9"
   ]
  },
  {
   "cell_type": "code",
   "execution_count": null,
   "metadata": {},
   "outputs": [],
   "source": [
    "fuel_type_coal_1994=fuel_data.set_index([\"fuel_type_code_pudl\",\"report_year\"]).loc[\"coal\"].loc[1994][\"fuel_cost_per_unit_burned\"].sum()\n",
    "fuel_type_coal_1998=fuel_data.set_index([\"fuel_type_code_pudl\",\"report_year\"]).loc[\"coal\"].loc[1998][\"fuel_cost_per_unit_burned\"].sum()\n",
    "(fuel_type_coal_1998/fuel_type_coal_1994)-1\n"
   ]
  },
  {
   "cell_type": "markdown",
   "metadata": {},
   "source": [
    "#### QUESTION 10"
   ]
  },
  {
   "cell_type": "code",
   "execution_count": null,
   "metadata": {},
   "outputs": [],
   "source": [
    "max_year_average=fuel_data.groupby(\"report_year\")[\"fuel_cost_per_unit_delivered\"].mean()\n",
    "max_year_average.sort_values()  "
   ]
  },
  {
   "cell_type": "code",
   "execution_count": null,
   "metadata": {},
   "outputs": [],
   "source": []
  }
 ],
 "metadata": {
  "kernelspec": {
   "display_name": "Python 3",
   "language": "python",
   "name": "python3"
  },
  "language_info": {
   "codemirror_mode": {
    "name": "ipython",
    "version": 3
   },
   "file_extension": ".py",
   "mimetype": "text/x-python",
   "name": "python",
   "nbconvert_exporter": "python",
   "pygments_lexer": "ipython3",
   "version": "3.7.6"
  }
 },
 "nbformat": 4,
 "nbformat_minor": 4
}
